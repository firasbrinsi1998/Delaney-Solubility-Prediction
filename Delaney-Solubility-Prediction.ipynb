{
 "cells": [
  {
   "cell_type": "code",
   "execution_count": 14,
   "id": "f8b41a4c",
   "metadata": {},
   "outputs": [
    {
     "name": "stdout",
     "output_type": "stream",
     "text": [
      "(1144, 5)\n"
     ]
    },
    {
     "data": {
      "text/html": [
       "<div>\n",
       "<style scoped>\n",
       "    .dataframe tbody tr th:only-of-type {\n",
       "        vertical-align: middle;\n",
       "    }\n",
       "\n",
       "    .dataframe tbody tr th {\n",
       "        vertical-align: top;\n",
       "    }\n",
       "\n",
       "    .dataframe thead th {\n",
       "        text-align: right;\n",
       "    }\n",
       "</style>\n",
       "<table border=\"1\" class=\"dataframe\">\n",
       "  <thead>\n",
       "    <tr style=\"text-align: right;\">\n",
       "      <th></th>\n",
       "      <th>MolLogP</th>\n",
       "      <th>MolWt</th>\n",
       "      <th>NumRotatableBonds</th>\n",
       "      <th>AromaticProportion</th>\n",
       "      <th>logS</th>\n",
       "    </tr>\n",
       "  </thead>\n",
       "  <tbody>\n",
       "    <tr>\n",
       "      <th>0</th>\n",
       "      <td>2.5954</td>\n",
       "      <td>167.850</td>\n",
       "      <td>0.0</td>\n",
       "      <td>0.0</td>\n",
       "      <td>-2.18</td>\n",
       "    </tr>\n",
       "    <tr>\n",
       "      <th>1</th>\n",
       "      <td>2.3765</td>\n",
       "      <td>133.405</td>\n",
       "      <td>0.0</td>\n",
       "      <td>0.0</td>\n",
       "      <td>-2.00</td>\n",
       "    </tr>\n",
       "    <tr>\n",
       "      <th>2</th>\n",
       "      <td>2.5938</td>\n",
       "      <td>167.850</td>\n",
       "      <td>1.0</td>\n",
       "      <td>0.0</td>\n",
       "      <td>-1.74</td>\n",
       "    </tr>\n",
       "    <tr>\n",
       "      <th>3</th>\n",
       "      <td>2.0289</td>\n",
       "      <td>133.405</td>\n",
       "      <td>1.0</td>\n",
       "      <td>0.0</td>\n",
       "      <td>-1.48</td>\n",
       "    </tr>\n",
       "    <tr>\n",
       "      <th>4</th>\n",
       "      <td>2.9189</td>\n",
       "      <td>187.375</td>\n",
       "      <td>1.0</td>\n",
       "      <td>0.0</td>\n",
       "      <td>-3.04</td>\n",
       "    </tr>\n",
       "  </tbody>\n",
       "</table>\n",
       "</div>"
      ],
      "text/plain": [
       "   MolLogP    MolWt  NumRotatableBonds  AromaticProportion  logS\n",
       "0   2.5954  167.850                0.0                 0.0 -2.18\n",
       "1   2.3765  133.405                0.0                 0.0 -2.00\n",
       "2   2.5938  167.850                1.0                 0.0 -1.74\n",
       "3   2.0289  133.405                1.0                 0.0 -1.48\n",
       "4   2.9189  187.375                1.0                 0.0 -3.04"
      ]
     },
     "execution_count": 14,
     "metadata": {},
     "output_type": "execute_result"
    }
   ],
   "source": [
    "#Import libraries\n",
    "import pandas as pd\n",
    "from sklearn.model_selection import train_test_split\n",
    "\n",
    "#Import dataset\n",
    "df=pd.read_csv(\"delaney_solubility.csv\")\n",
    "\n",
    "#Explore dataset\n",
    "print(df.shape)\n",
    "df.head()"
   ]
  },
  {
   "cell_type": "code",
   "execution_count": 12,
   "id": "0872ee9b",
   "metadata": {},
   "outputs": [
    {
     "name": "stdout",
     "output_type": "stream",
     "text": [
      "      MolLogP    MolWt  NumRotatableBonds  AromaticProportion\n",
      "0     2.59540  167.850                0.0            0.000000\n",
      "1     2.37650  133.405                0.0            0.000000\n",
      "2     2.59380  167.850                1.0            0.000000\n",
      "3     2.02890  133.405                1.0            0.000000\n",
      "4     2.91890  187.375                1.0            0.000000\n",
      "...       ...      ...                ...                 ...\n",
      "1139  1.98820  287.343                8.0            0.000000\n",
      "1140  3.42130  286.114                2.0            0.333333\n",
      "1141  3.60960  308.333                4.0            0.695652\n",
      "1142  2.56214  354.815                3.0            0.521739\n",
      "1143  2.02164  179.219                1.0            0.461538\n",
      "\n",
      "[1144 rows x 4 columns]\n",
      "0      -2.180\n",
      "1      -2.000\n",
      "2      -1.740\n",
      "3      -1.480\n",
      "4      -3.040\n",
      "        ...  \n",
      "1139    1.144\n",
      "1140   -4.925\n",
      "1141   -3.893\n",
      "1142   -3.790\n",
      "1143   -2.581\n",
      "Name: logS, Length: 1144, dtype: float64\n"
     ]
    }
   ],
   "source": [
    "#Split data\n",
    "\n",
    "y = df['logS']\n",
    "X = df.drop('logS', axis=1)\n",
    "print(X)\n",
    "print(y)"
   ]
  },
  {
   "cell_type": "code",
   "execution_count": 15,
   "id": "b7630806",
   "metadata": {},
   "outputs": [],
   "source": [
    "#Data split\n",
    "\n",
    "X_train, X_test, y_train, y_test = train_test_split(X, y, test_size=0.18, random_state=100)\n"
   ]
  },
  {
   "cell_type": "code",
   "execution_count": 18,
   "id": "14c070db",
   "metadata": {},
   "outputs": [
    {
     "name": "stdout",
     "output_type": "stream",
     "text": [
      "     MolLogP    MolWt  NumRotatableBonds  AromaticProportion\n",
      "249  0.67150   89.094                1.0            0.000000\n",
      "189  2.85164  157.216                0.0            0.833333\n",
      "580  3.99540  269.127                2.0            0.705882\n",
      "288  1.41490  102.177                3.0            0.000000\n",
      "365  1.88920  120.151                1.0            0.666667\n",
      "..       ...      ...                ...                 ...\n",
      "802  3.00254  250.301                1.0            0.842105\n",
      "53   2.13860   82.146                3.0            0.000000\n",
      "350  5.76304  256.348                0.0            0.900000\n",
      "79   3.89960  186.339               10.0            0.000000\n",
      "792  2.52334  310.297                3.0            0.300000\n",
      "\n",
      "[938 rows x 4 columns]       MolLogP    MolWt  NumRotatableBonds  AromaticProportion\n",
      "822   2.91000  172.268                7.0            0.000000\n",
      "118   7.27400  360.882                1.0            0.666667\n",
      "347   1.94040  145.161                0.0            0.909091\n",
      "1123  1.98640  119.378                0.0            0.000000\n",
      "924   1.70062  108.140                0.0            0.750000\n",
      "...       ...      ...                ...                 ...\n",
      "136   5.96720  291.992                1.0            0.750000\n",
      "834   3.16412  283.799                6.0            0.315789\n",
      "1068 -0.08380  172.209                1.0            0.545455\n",
      "771  -5.39720  342.297                4.0            0.000000\n",
      "921   3.10250  191.455                0.0            0.750000\n",
      "\n",
      "[206 rows x 4 columns] 249   -0.620\n",
      "189   -1.940\n",
      "580   -3.953\n",
      "288   -0.720\n",
      "365   -1.280\n",
      "       ...  \n",
      "802   -2.925\n",
      "53    -2.680\n",
      "350   -7.020\n",
      "79    -4.800\n",
      "792   -3.240\n",
      "Name: logS, Length: 938, dtype: float64 822    -3.380\n",
      "118    -8.010\n",
      "347    -2.160\n",
      "1123   -1.170\n",
      "924    -0.730\n",
      "        ...  \n",
      "136    -7.390\n",
      "834    -2.730\n",
      "1068   -1.340\n",
      "771    -0.244\n",
      "921    -3.630\n",
      "Name: logS, Length: 206, dtype: float64\n"
     ]
    }
   ],
   "source": [
    "print(X_train, X_test, y_train, y_test)"
   ]
  },
  {
   "cell_type": "code",
   "execution_count": null,
   "id": "b57c7c52",
   "metadata": {},
   "outputs": [],
   "source": []
  }
 ],
 "metadata": {
  "kernelspec": {
   "display_name": "Python 3 (ipykernel)",
   "language": "python",
   "name": "python3"
  },
  "language_info": {
   "codemirror_mode": {
    "name": "ipython",
    "version": 3
   },
   "file_extension": ".py",
   "mimetype": "text/x-python",
   "name": "python",
   "nbconvert_exporter": "python",
   "pygments_lexer": "ipython3",
   "version": "3.9.7"
  }
 },
 "nbformat": 4,
 "nbformat_minor": 5
}
